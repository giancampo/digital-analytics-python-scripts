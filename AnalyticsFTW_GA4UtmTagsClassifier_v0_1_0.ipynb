{
  "nbformat": 4,
  "nbformat_minor": 0,
  "metadata": {
    "colab": {
      "provenance": [],
      "toc_visible": true,
      "include_colab_link": true
    },
    "kernelspec": {
      "name": "python3",
      "display_name": "Python 3"
    },
    "language_info": {
      "name": "python"
    }
  },
  "cells": [
    {
      "cell_type": "markdown",
      "metadata": {
        "id": "view-in-github",
        "colab_type": "text"
      },
      "source": [
        "<a href=\"https://colab.research.google.com/github/giancampo/digital-analytics-python-scripts/blob/main/AnalyticsFTW_GA4UtmTagsClassifier_v0_1_0.ipynb\" target=\"_parent\"><img src=\"https://colab.research.google.com/assets/colab-badge.svg\" alt=\"Open In Colab\"/></a>"
      ]
    },
    {
      "cell_type": "markdown",
      "source": [
        "#import python libraries\n",
        "\n"
      ],
      "metadata": {
        "id": "yZtKT8SPG2Ku"
      }
    },
    {
      "cell_type": "code",
      "source": [
        "import pandas as pd\n",
        "import re"
      ],
      "metadata": {
        "id": "ESHoNg9FGqAK"
      },
      "execution_count": null,
      "outputs": []
    },
    {
      "cell_type": "markdown",
      "source": [
        "#import GA4 source categories file\n",
        "(and filter sources by categories)"
      ],
      "metadata": {
        "id": "fLRmp_Z6s0aF"
      }
    },
    {
      "cell_type": "code",
      "source": [
        "# Load the uploaded Excel file\n",
        "file_path = '/content/NK_AnalyticsFTW_GA4SourceCategories.xlsx'\n",
        "\n",
        "# Assuming the values are in the first column of the first sheet, we'll read that column\n",
        "values_df = pd.read_excel(file_path)\n",
        "\n",
        "# Filtering the values from the Excel file where 'source category' is 'SOURCE_CATEGORY_SHOPPING'\n",
        "filtered_shopping_sources = values_df[values_df['source category'] == 'SOURCE_CATEGORY_SHOPPING']['source'].tolist()\n",
        "# Filtering the values from the Excel file where 'source category' is 'SOURCE_CATEGORY_SEARCH'\n",
        "filtered_search_sources = values_df[values_df['source category'] == 'SOURCE_CATEGORY_SEARCH']['source'].tolist()\n",
        "# Filtering the values from the Excel file where 'source category' is 'SOURCE_CATEGORY_SOCIAL'\n",
        "filtered_social_sources = values_df[values_df['source category'] == 'SOURCE_CATEGORY_SOCIAL']['source'].tolist()\n",
        "# Filtering the values from the Excel file where 'source category' is 'SOURCE_CATEGORY_VIDEO'\n",
        "filtered_video_sources = values_df[values_df['source category'] == 'SOURCE_CATEGORY_VIDEO']['source'].tolist()\n",
        "\n",
        "# Display the first few rows of the DataFrame to understand its structure\n",
        "#values_df.head()"
      ],
      "metadata": {
        "id": "TvogATwFs34d"
      },
      "execution_count": null,
      "outputs": []
    },
    {
      "cell_type": "markdown",
      "source": [
        "#upload the file to check\n",
        "(Excel file with columns exactly named: \"Source\", \"Medium\", \"Campaign\". The file must be named \"Check.xlsx\")"
      ],
      "metadata": {
        "id": "FDqdJWj17QMR"
      }
    },
    {
      "cell_type": "code",
      "source": [
        "uploaded_file_path = '/content/Check.xlsx'\n",
        "df = pd.read_excel(uploaded_file_path, na_filter=False)\n",
        "#df.head()"
      ],
      "metadata": {
        "id": "36J3miKK7PDZ"
      },
      "execution_count": null,
      "outputs": []
    },
    {
      "cell_type": "markdown",
      "source": [
        "#map the input UTM tags\n",
        "(and define their default channel groups)"
      ],
      "metadata": {
        "id": "6ZL11sUhHKCF"
      }
    },
    {
      "cell_type": "code",
      "execution_count": null,
      "metadata": {
        "id": "jlaSG_RE_UYX"
      },
      "outputs": [],
      "source": [
        "'''\n",
        "# Sample data to test the script\n",
        "data = {\n",
        "    'Source': ['(direct)', 'google', 'direct', 'facebook', 'alibaba', 'test', 'foo', 'foo'],\n",
        "    'Medium': ['(not set)', 'cp', 'interstitial', '(none)', 'foo', 'cp', 'retargeting', 'sm'],\n",
        "    'Campaign': ['foo', 'foo', 'foo', 'cross-network', 'foo', 'shop', 'bar', 'foo']\n",
        "}\n",
        "\n",
        "df = pd.DataFrame(data)\n",
        "'''\n",
        "\n",
        "# Define the regex patterns\n",
        "# Some of them are duplicates but they could change in the future\n",
        "paid_shopping_campaign_pattern = r'^(.*(([^a-df-z]|^)shop|shopping).*)$'\n",
        "paid_shopping_medium_pattern = r'^(.*cp.*|ppc|retargeting|paid.*)$'\n",
        "paid_search_medium_pattern = r'^(.*cp.*|ppc|retargeting|paid.*)$'\n",
        "paid_social_medium_pattern = r'^(.*cp.*|ppc|retargeting|paid.*)$'\n",
        "paid_video_medium_pattern = r'^(.*cp.*|ppc|retargeting|paid.*)$'\n",
        "paid_other_medium_pattern = r'^(.*cp.*|ppc|retargeting|paid.*)$'\n",
        "organic_shopping_campaign_pattern = r'^(.*(([^a-df-z]|^)shop|shopping).*)$'\n",
        "organic_video_medium_pattern = r'^(.*video.*)$'\n",
        "email_source_pattern = r'email|e-mail|e_mail|e mail'\n",
        "email_medium_pattern = r'email|e-mail|e_mail|e mail'\n",
        "mobile_medium_pattern_1 = r'.*push$'\n",
        "mobile_medium_pattern_2 = r'.*mobile.*|.*notification.*'\n",
        "\n",
        "# Function to apply the condition\n",
        "def check_condition(row):\n",
        "    Source = row['Source'].lower()\n",
        "    Medium = row['Medium'].lower()\n",
        "    Campaign = row['Campaign'].lower()\n",
        "    if Source == '(direct)' and Medium in ['(not set)', '(none)']:\n",
        "        return 'Direct'\n",
        "    elif Campaign == 'cross-network':\n",
        "        return 'Cross-network'\n",
        "    elif Source in filtered_shopping_sources or (re.match(paid_shopping_campaign_pattern, Campaign) and re.match(paid_shopping_medium_pattern, Medium)):\n",
        "        return 'Paid Shopping'\n",
        "    elif Source in filtered_search_sources and re.match(paid_search_medium_pattern, Medium):\n",
        "        return 'Paid Search'\n",
        "    elif Source in filtered_social_sources and re.match(paid_social_medium_pattern, Medium):\n",
        "        return 'Paid Social'\n",
        "    elif Source in filtered_video_sources and re.match(paid_video_medium_pattern, Medium):\n",
        "        return 'Paid Video'\n",
        "    elif Medium in ['display', 'banner', 'expandable', 'interstitial', 'cpm']:\n",
        "        return 'Display'\n",
        "    elif re.match(paid_other_medium_pattern, Medium):\n",
        "        return 'Paid Other'\n",
        "    elif Source in filtered_shopping_sources or re.match(organic_shopping_campaign_pattern, row['Campaign']):\n",
        "        return 'Organic Shopping'\n",
        "    elif Source in filtered_social_sources or Medium in ['social', 'social-network', 'social-media', 'sm', 'social network', 'social media']:\n",
        "        return 'Organic Social'\n",
        "    elif Source in filtered_video_sources or re.match(organic_video_medium_pattern, Medium):\n",
        "        return 'Organic Video'\n",
        "    elif Source in filtered_search_sources or Medium == 'organic':\n",
        "        return 'Organic Search'\n",
        "    elif Medium in ['referral', 'app', 'link']:\n",
        "        return 'Referral'\n",
        "    elif re.match(email_source_pattern, Source) or re.match(email_medium_pattern, Medium):\n",
        "        return 'Email'\n",
        "    elif Medium == 'affiliate':\n",
        "        return 'Affiliates'\n",
        "    elif Medium == 'audio':\n",
        "        return 'Audio'\n",
        "    elif Source == 'sms' or Medium == 'sms':\n",
        "        return 'SMS'\n",
        "    elif re.match(mobile_medium_pattern_1, Medium) or re.match(mobile_medium_pattern_2, Medium) or Source == 'firebase':\n",
        "        return 'Mobile Push Notifications'\n",
        "    else:\n",
        "        return 'Unassigned'  # Or any other default value you wish to keep\n",
        "\n",
        "# Apply the function to each row\n",
        "df['Default channel group'] = df.apply(check_condition, axis=1)\n",
        "\n",
        "# Display the DataFrame\n",
        "#df.head()\n",
        "\n",
        "# Export the DataFrame\n",
        "df.to_excel(\"results.xlsx\", sheet_name='UTM tagging classification', index=False)\n"
      ]
    }
  ]
}